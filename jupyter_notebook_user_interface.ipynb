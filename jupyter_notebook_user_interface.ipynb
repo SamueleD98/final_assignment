{
 "cells": [
  {
   "cell_type": "markdown",
   "id": "becbfe4d",
   "metadata": {},
   "source": [
    "# Control Pannel"
   ]
  },
  {
   "cell_type": "markdown",
   "id": "d627f993",
   "metadata": {},
   "source": [
    "Please run the simulation by calling the launch file:  \n",
    "`roslaunch final_assignment jupyter_simulation.launch`  \n",
    "This will both start the simulation and run the essential nodes."
   ]
  },
  {
   "cell_type": "markdown",
   "id": "ca6d3d19",
   "metadata": {},
   "source": [
    "Let's start by importing the necessary modules:"
   ]
  },
  {
   "cell_type": "code",
   "execution_count": null,
   "id": "9155a21c",
   "metadata": {},
   "outputs": [],
   "source": [
    "import jupyros as jr\n",
    "import ipywidgets as widgets\n",
    "from jupyros import ros3d\n",
    "import os\n",
    "from IPython.display import display\n",
    "import rospy\n",
    "import actionlib\n",
    "from move_base_msgs.msg import *\n",
    "from final_assignment.msg import CommandMessage\n",
    "import numpy as np\n",
    "import matplotlib.pyplot as plt\n",
    "from nav_msgs.msg import Odometry\n",
    "from sensor_msgs.msg import LaserScan\n",
    "from matplotlib.animation import FuncAnimation\n",
    "import subprocess"
   ]
  },
  {
   "cell_type": "markdown",
   "id": "68b780d6",
   "metadata": {},
   "source": [
    "Here we initialise the node, the command publisher and the action client:"
   ]
  },
  {
   "cell_type": "code",
   "execution_count": null,
   "id": "8d86d44d",
   "metadata": {},
   "outputs": [],
   "source": [
    "rospy.init_node('user_interface')\n",
    "command = rospy.Publisher('/middleman/control', CommandMessage, queue_size=1)\n",
    "client = actionlib.SimpleActionClient('move_base', MoveBaseAction)"
   ]
  },
  {
   "cell_type": "markdown",
   "id": "a9f5379d",
   "metadata": {},
   "source": [
    "The ToggleButtons widget allow to choose the different modalities:"
   ]
  },
  {
   "cell_type": "code",
   "execution_count": null,
   "id": "c4cd73a5",
   "metadata": {
    "code_folding": []
   },
   "outputs": [],
   "source": [
    "toggle = widgets.ToggleButtons(\n",
    "    options=['Idle','Reach a point', 'Keyboard Driving', 'K. Assisted Driving'],\n",
    "    description='Mode:',\n",
    "    disabled=False,\n",
    "    button_style='', # 'success', 'info', 'warning', 'danger' or ''\n",
    "    tooltips=['The robot waits for a command',\n",
    "              'Autonomously reach a specific point', \n",
    "              'Drive the robot with the keyboard', \n",
    "              'Drive the robot with the keyboard, assisted by the computer to avoid obstacles'],)"
   ]
  },
  {
   "cell_type": "markdown",
   "id": "2054d3fa",
   "metadata": {},
   "source": [
    "The two text boxes receive the coordinates for the robot to reach meanwhile, the go button is used to send the command:"
   ]
  },
  {
   "cell_type": "code",
   "execution_count": null,
   "id": "6317ce81",
   "metadata": {
    "code_folding": [
     0,
     9,
     18
    ]
   },
   "outputs": [],
   "source": [
    "x = widgets.BoundedFloatText(\n",
    "        value=0,\n",
    "        min=-10,\n",
    "        max=10,\n",
    "        step=1,\n",
    "        description='X:',\n",
    "        disabled=True\n",
    "    )\n",
    "\n",
    "y = widgets.BoundedFloatText(\n",
    "        value=0,\n",
    "        min=-10,\n",
    "        max=10,\n",
    "        step=1,\n",
    "        description='Y:',\n",
    "        disabled=True\n",
    "    )\n",
    "\n",
    "go = widgets.Button(\n",
    "        description='Go!',\n",
    "        disabled=True,\n",
    "        button_style='success', # 'success', 'info', 'warning', 'danger' or ''\n",
    "        tooltip='Send the command!',\n",
    "    )"
   ]
  },
  {
   "cell_type": "markdown",
   "id": "3f231e31",
   "metadata": {},
   "source": [
    "Each time the ToggleButtons changes status, any active action is canceled and, if the current modality is anything but the 'Reach a point' function, the coordinates boxes are disabled. For every modality, the different parameters are set. The \"Idle\" modality re-set every counter and keeps the robot at rest waiting for a new working modality.\n",
    "Every time the 'go' button is pushed, the counter of the requested goals is increased. Only when/if the point is reached, the reached goals counter is increased too. \n",
    "The 'go' button changes appearance when there's a target and gives the user the possibility of canceling the action.\n"
   ]
  },
  {
   "cell_type": "code",
   "execution_count": null,
   "id": "33c60b61",
   "metadata": {
    "code_folding": [
     3,
     39
    ]
   },
   "outputs": [],
   "source": [
    "reached = 0 #Number of reached targets\n",
    "total = 0   #Total number of requested targets\n",
    "client.wait_for_server()\n",
    "def on_click(change):\n",
    "    global reached, total, x_data1, y_data1\n",
    "    \n",
    "    #Command for the middleman node\n",
    "    control_command = CommandMessage()   \n",
    "    control_command.enable_userCtrl = False\n",
    "    control_command.enable_helper = False\n",
    "    \n",
    "    #Re-setting stuff\n",
    "    client.cancel_all_goals()\n",
    "    go.description='Go!'\n",
    "    go.button_style='success'\n",
    "    go.disabled=True\n",
    "    x.disabled = True\n",
    "    y.disabled = True    \n",
    "    \n",
    "    if change['new'] == 'Reach a point':\n",
    "        x.disabled = False\n",
    "        y.disabled = False\n",
    "        go.disabled = False    \n",
    "    elif change['new'] == 'Keyboard Driving':\n",
    "        control_command.enable_userCtrl = True   \n",
    "    elif change['new'] == 'K. Assisted Driving':\n",
    "        control_command.enable_userCtrl = True     \n",
    "        control_command.enable_helper = True\n",
    "    else:\n",
    "        x.value = 0 #Value of the coordinates box\n",
    "        y.value = 0 #Value of the coordinates box\n",
    "        reached = 0 \n",
    "        total = 0\n",
    "        x_data1, y_data1 = [], [] #Robot path\n",
    "        \n",
    "    command.publish(control_command) #Sending the command to the middleman node\n",
    "        \n",
    "toggle.observe(on_click, 'value')\n",
    "\n",
    "def on_button_clicked(b):\n",
    "    global total\n",
    "    with output:\n",
    "        if go.description=='Abort!': #If there's an active action and the 'go'/'abort' button is pushed\n",
    "            client.cancel_all_goals()\n",
    "            go.description='Go!'\n",
    "            go.button_style='success'\n",
    "        else:                         #If there's not an active action and the 'go'/'abort' button is pushed\n",
    "            total = total + 1\n",
    "            goal = MoveBaseGoal()\n",
    "            goal.target_pose.header.frame_id = 'map'\n",
    "            goal.target_pose.pose.orientation.w = 1.0\n",
    "            goal.target_pose.pose.position.x = x.value\n",
    "            goal.target_pose.pose.position.y = y.value\n",
    "            client.send_goal(goal) \n",
    "            go.description='Abort!'\n",
    "            go.button_style='danger'\n",
    "\n",
    "go.on_click(on_button_clicked)"
   ]
  },
  {
   "cell_type": "markdown",
   "id": "3e43b221",
   "metadata": {},
   "source": [
    "The node realizes the robot reached a target by checking its updated position in the `odom` topic. \n",
    "If it's within a range from the target (the odometry will almost never return the exact point), it will set the goal as reached and it will be ready for another goal. Actually, it won't stop right after it enters the virtual \"circle\" around the target: in order to give the robot the possibility of getting as much closer to the point as possible, it will need to satisfy the condition (of being inside the range) for a number of times before the script gives the target as reached.\n",
    "Here the two vectors, where the path of the robot is saved, are also defined. This because it will be the odom_callback the function which appends the new position to these vectors."
   ]
  },
  {
   "cell_type": "code",
   "execution_count": null,
   "id": "02406c90",
   "metadata": {
    "code_folding": [
     4
    ]
   },
   "outputs": [],
   "source": [
    "attempt=2000 #Number of times the robot has to be inside the range before the goal is considered reached\n",
    "\n",
    "x_data1, y_data1 = [], []\n",
    "\n",
    "def odom_callback(msg): #Each time the odometry is updated..\n",
    "    global reached, attempt\n",
    "    if go.description=='Abort!': #..check if the target is reached\n",
    "        if msg.pose.pose.position.x<=x.value+1.2 and msg.pose.pose.position.x>=x.value-1.2 \\\n",
    "            and msg.pose.pose.position.y<=y.value+1.2 and msg.pose.pose.position.y>=y.value-1.2:\n",
    "            #both x and y position must be within -1.2 and 1.2 units from the target\n",
    "            if attempt<=0: #It is checked for a number of times so the robot can get as closer as possible\n",
    "                reached = reached + 1\n",
    "                client.cancel_all_goals()\n",
    "                go.description='Go!'\n",
    "                go.button_style='success'   \n",
    "                attempt=2000\n",
    "            else:\n",
    "                attempt = attempt - 1\n",
    "    #Update the robot path\n",
    "    y_data1.append(msg.pose.pose.position.y)\n",
    "    x_data1.append(msg.pose.pose.position.x) "
   ]
  },
  {
   "cell_type": "markdown",
   "id": "4e4ce5ab",
   "metadata": {},
   "source": [
    "Once the callback is defined, it is finally possible to define also the subscriber to the `odom` topic:"
   ]
  },
  {
   "cell_type": "code",
   "execution_count": null,
   "id": "154b5f7b",
   "metadata": {
    "code_folding": []
   },
   "outputs": [],
   "source": [
    "sub1 = rospy.Subscriber('/odom', Odometry, odom_callback)"
   ]
  },
  {
   "cell_type": "markdown",
   "id": "1c7686b5",
   "metadata": {},
   "source": [
    "The following widget is used together with the laser scanner plot. In the latter, the maximum radius is fixed to 10 units even though it is a higher distance than the average distance from an obstacle (in the studied environment). The slider allows to modify the maximum radius of the plot, allowing so to zoom in/out the showed graph."
   ]
  },
  {
   "cell_type": "code",
   "execution_count": null,
   "id": "f330b5c7",
   "metadata": {
    "code_folding": [
     0
    ]
   },
   "outputs": [],
   "source": [
    "z = widgets.FloatSlider(\n",
    "    value=5,\n",
    "    min=1,\n",
    "    max=10,\n",
    "    step=0.5,\n",
    "    description='Max radius:',\n",
    "    disabled=False,\n",
    "    continuous_update=False,\n",
    "    orientation='horizontal',\n",
    "    readout=True,\n",
    "    readout_format='.1f',)"
   ]
  },
  {
   "cell_type": "markdown",
   "id": "86f92a8f",
   "metadata": {},
   "source": [
    "Here the main figure is defined. It will count 3 subplots:\n",
    "- The real time path of the robot\n",
    "- The laser scanner polar plot\n",
    "- The reached targets/total targets bar chart  \n",
    "\n",
    "The laser scanner is a polar plot because the distances returned by the topic are expressed in polar coordinates. Since the graph is uploaded with the most recent laser scans, the `scan` subscriber and its callback are coded. There is also the function \"update_plot()\" which is called for every new frame of the figure: it uploads each graph to make it show the updated data.\n",
    "The \"FuncAnimation\" is called with the figure, the function to update the plots, the blit boolean and the calling interval as parameters."
   ]
  },
  {
   "cell_type": "code",
   "execution_count": null,
   "id": "ae9e732e",
   "metadata": {
    "code_folding": [
     22
    ]
   },
   "outputs": [],
   "source": [
    "%matplotlib widget\n",
    "\n",
    "fig = plt.figure()\n",
    "\n",
    "fig.set_figheight(7)\n",
    "fig.set_figwidth(9)\n",
    "\n",
    "ax1 = plt.subplot(221)\n",
    "ax4 = ax1 #this will plot an 'x' on the target\n",
    "ax2 = plt.subplot(223, projection='polar')\n",
    "ax3 = plt.subplot(222)\n",
    "ln1, = ax1.plot([], [], 'b')\n",
    "ln4, = ax1.plot([], [], 'xk')\n",
    "ln2, = ax2.plot([], [], '.r')\n",
    "ln3 = ax3.bar(['Reached','Total'],[reached, total], bottom=0)\n",
    "ln = [ln1, ln2, ln3, ln4]    \n",
    "\n",
    "ax1.set_title('Robot path')\n",
    "ax1.set_xlim(-10, 10)\n",
    "ax1.set_ylim(-10, 10)\n",
    "ax1.set_xticks([-10, -5, 0, 5, 10])\n",
    "ax1.set_yticks([-10, -5, 0, 5, 10])\n",
    "\n",
    "ax2.set_title('Laser scans')\n",
    "ax2.grid(True)\n",
    "ax2.set_rmax(z.value)\n",
    "ax2.set_thetamin(0)\n",
    "ax2.set_thetamax(180)\n",
    "\n",
    "ax2.set_xticks(np.pi/180. * np.linspace(0,  180, 5, endpoint=True))\n",
    "ax2.set_xticklabels(['90°', '45°', '0°', '-45°', '-90°'])\n",
    "\n",
    "\n",
    "x_data2 = np.linspace(0,np.pi,720) #720 angles between 0 and 180 degrees\n",
    "y_data2 = np.linspace(10,10,720)\n",
    "\n",
    "ax3.set_title('Goals outcomes')\n",
    "ax3.set_ylim(-1, 11)\n",
    "ax3.set_yticks([0,1,2,3,4,5,6,7,8,9,10])\n",
    "ln3[0].set_color('g')\n",
    "ln3[1].set_color('b')\n",
    "\n",
    "def scan_callback(msg):\n",
    "    global y_data2\n",
    "    y_data2 = list(msg.ranges)\n",
    "    \n",
    "def update_plot(frame):\n",
    "    plt.cla()\n",
    "    if go.description=='Abort!': \n",
    "        ln[3].set_data(x.value, y.value) #Set an 'x' on the target\n",
    "    else:                        \n",
    "        ln[3].set_data([], [])           #Remove any old 'x' of the past targets\n",
    "    #Update the plots\n",
    "    ln[0].set_data(x_data1, y_data1)\n",
    "    ln[1].set_data(x_data2, y_data2)\n",
    "    ax2.set_rmax(z.value)             #Update the raiud according to the slider\n",
    "    ln3 = ax3.bar(['Reached','Total'],[reached, total], bottom=0)\n",
    "    ax3.set_title('Goals outcomes')\n",
    "    ln3[0].set_color('g')\n",
    "    ln3[1].set_color('b')\n",
    "    ax3.set_ylim(-1, 11)\n",
    "    ax3.set_yticks([0,1,2,3,4,5,6,7,8,9,10])\n",
    "    ln[2] = ln3\n",
    "    return ln\n",
    "\n",
    "sub2 = rospy.Subscriber('/scan', LaserScan, scan_callback)\n",
    "\n",
    "ani = FuncAnimation(fig, update_plot, blit=True, interval=1000)\n",
    "\n",
    "#Plots positioning\n",
    "plt.subplots_adjust(left=0.1,\n",
    "                    bottom=0.01, \n",
    "                    right=0.95, \n",
    "                    top=0.9, \n",
    "                    wspace=0.4, \n",
    "                    hspace=0.4)\n",
    "#Button positioning\n",
    "box_layout = widgets.Layout(display='flex',\n",
    "                flex_flow='column',\n",
    "                align_items='center',\n",
    "                width='100%')\n",
    "box = widgets.HBox(children=[go],layout=box_layout)\n",
    "\n",
    "#Display\n",
    "display(toggle)\n",
    "display(x, y)\n",
    "display(box)\n",
    "output = widgets.Output()\n",
    "display(output)\n",
    "plt.show()\n",
    "display(z)"
   ]
  },
  {
   "cell_type": "markdown",
   "id": "b212a66e",
   "metadata": {
    "code_folding": [
     22
    ]
   },
   "source": [
    "Kill the simulation by running the following. \n",
    "NOTE: it will kill all the python code in execution on the machine"
   ]
  },
  {
   "cell_type": "code",
   "execution_count": null,
   "id": "7fa2b4df",
   "metadata": {},
   "outputs": [],
   "source": [
    "#kill = subprocess.run([\"killall\", \"-9\", \"python\"])"
   ]
  }
 ],
 "metadata": {
  "kernelspec": {
   "display_name": "Python 3 (ipykernel)",
   "language": "python",
   "name": "python3"
  },
  "language_info": {
   "codemirror_mode": {
    "name": "ipython",
    "version": 3
   },
   "file_extension": ".py",
   "mimetype": "text/x-python",
   "name": "python",
   "nbconvert_exporter": "python",
   "pygments_lexer": "ipython3",
   "version": "3.8.10"
  }
 },
 "nbformat": 4,
 "nbformat_minor": 5
}
